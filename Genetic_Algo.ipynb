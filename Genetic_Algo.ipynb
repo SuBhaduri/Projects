{
 "cells": [
  {
   "cell_type": "markdown",
   "metadata": {},
   "source": [
    "### Python Unbox Coding Challenge\n",
    "#### Author: Subhamoy Bhaduri\n",
    "#### Date: June 23, 2020"
   ]
  },
  {
   "cell_type": "markdown",
   "metadata": {},
   "source": [
    "#### Import the libraries."
   ]
  },
  {
   "cell_type": "code",
   "execution_count": 127,
   "metadata": {},
   "outputs": [],
   "source": [
    "import random\n",
    "import numpy as np\n",
    "from numpy.random import choice\n",
    "import pandas as pd"
   ]
  },
  {
   "cell_type": "markdown",
   "metadata": {},
   "source": [
    "#### Set the parameters."
   ]
  },
  {
   "cell_type": "code",
   "execution_count": 128,
   "metadata": {},
   "outputs": [],
   "source": [
    "init_population = 2000\n",
    "crossover_frac = 0.5\n",
    "mutation_probability = 0.01\n",
    "target_length = 8 #since our desired output is 8 byte long\n",
    "cross_over_point = int(crossover_frac*target_length)\n",
    "generation_count = 5000\n",
    "\n",
    "population_data = []\n",
    "fitness_data = []\n",
    "secure_random = random.SystemRandom()"
   ]
  },
  {
   "cell_type": "markdown",
   "metadata": {},
   "source": [
    "#### Set additional parameters."
   ]
  },
  {
   "cell_type": "code",
   "execution_count": 129,
   "metadata": {},
   "outputs": [
    {
     "name": "stdout",
     "output_type": "stream",
     "text": [
      "List of Numbers in Number System: ['0', '1', '2', '3', '4', '5', '6', '7']\n"
     ]
    }
   ],
   "source": [
    "gen_list = np.arange(0, 8) #take all the numbers from the number system between 0 and 7\n",
    "num_list = [str(i) for i in gen_list] #treat the numbers as Strings to be formatted later\n",
    "target_list = [str(i) for i in np.arange(0, 8)] #any number between 0 and 7 is part of output sequence\n",
    "print(\"List of Numbers in Number System:\", num_list)"
   ]
  },
  {
   "cell_type": "markdown",
   "metadata": {},
   "source": [
    "#### Create an initial population of different combinations of numbers from Number System."
   ]
  },
  {
   "cell_type": "code",
   "execution_count": 130,
   "metadata": {},
   "outputs": [],
   "source": [
    "def Create_Init_Population():  \n",
    "    population_data = []\n",
    "    fitness_data = []\n",
    "    secure_random = random.SystemRandom()\n",
    "    for outloop in range(init_population):\n",
    "        random_data = []\n",
    "        fitness_score = 0\n",
    "        for inloop in range(target_length):\n",
    "            selected_data = secure_random.choice(num_list) #pick any number from Number System\n",
    "            if (selected_data in target_list): #if the number lies between 0 and 7 (our desired pool of numbers) increase the fitness by 1\n",
    "                fitness_score = fitness_score + 1\n",
    "            random_data.append(selected_data)\n",
    "        population_data.append(random_data)\n",
    "        fitness_data.append(fitness_score)\n",
    "    probability_dist = []\n",
    "    for outloop in range(init_population):\n",
    "        probability_dist.append(fitness_data[outloop]/target_length)\n",
    "    prob_df = pd.DataFrame({'String':population_data,'Fitness_Score':fitness_data,'Probability':probability_dist})\n",
    "    prob_df = prob_df.sort_values(['Probability'],ascending=False)\n",
    "    prob_df = prob_df.reset_index(drop=True)\n",
    "    return prob_df, population_data"
   ]
  },
  {
   "cell_type": "markdown",
   "metadata": {},
   "source": [
    "#### Create a function to compute fitness score."
   ]
  },
  {
   "cell_type": "code",
   "execution_count": 131,
   "metadata": {},
   "outputs": [],
   "source": [
    "def Compute_Fitness_Score(data):\n",
    "    data = ''.join([elem for elem in data])\n",
    "    fitness_score = 0\n",
    "    board = np.zeros((target_length, target_length))\n",
    "    for inloop in range(target_length):\n",
    "#        if (data[inloop] in target_list): #if the number lies between 0 and 7 (our desired pool of numbers)\n",
    "        if data.count(data[inloop]) == 1: #if there is exact 1 occurance of each number\n",
    "            #check for diagonality\n",
    "            row = int(data[inloop])\n",
    "            col = int(inloop)\n",
    "            if board[row, col] != 1:\n",
    "                fitness_score = fitness_score + 1 #increase the fitness by 1\n",
    "            board[row, :] = 1\n",
    "            board[:, col] = 1\n",
    "            #for top right\n",
    "            for i, j in zip(range(row-1, -1, -1), range(col+1, target_length, 1)):\n",
    "                board[i, j] = 1\n",
    "            #for bottom right\n",
    "            for i, j in zip(range(row+1, target_length, 1), range(col+1, target_length, 1)):\n",
    "                board[i, j] = 1\n",
    "    return fitness_score"
   ]
  },
  {
   "cell_type": "markdown",
   "metadata": {},
   "source": [
    "#### Create a function for formatting the output."
   ]
  },
  {
   "cell_type": "code",
   "execution_count": 132,
   "metadata": {},
   "outputs": [],
   "source": [
    "def View_Element(data):\n",
    "    data = ''.join([elem for elem in data])\n",
    "    return data"
   ]
  },
  {
   "cell_type": "markdown",
   "metadata": {},
   "source": [
    "#### Crossover and Mutation."
   ]
  },
  {
   "cell_type": "code",
   "execution_count": 133,
   "metadata": {},
   "outputs": [],
   "source": [
    "def Crossover_Mutation(prob_df, population_data):\n",
    "    for loop in range(generation_count):\n",
    "        draw=[]\n",
    "        draw.append(prob_df[0:1][\"String\"].values[0])\n",
    "        draw.append(prob_df[1:2][\"String\"].values[0])\n",
    "        if (Compute_Fitness_Score(draw[0]) == target_length | Compute_Fitness_Score(draw[1]) == target_length):\n",
    "            print(View_Element(draw[0]),' ',View_Element(draw[1])) #when desired output is found out\n",
    "            res = str(View_Element(draw[0]))\n",
    "            res_fmt = str(' '.join(res))\n",
    "            return res_fmt\n",
    "            break\n",
    "        child1 = draw[0][0:cross_over_point]+draw[1][cross_over_point:] #crossover\n",
    "        child2 = draw[1][0:cross_over_point]+draw[0][cross_over_point:]\n",
    "        \n",
    "        child1_1st = child1[0:cross_over_point]\n",
    "        child2_1st = child2[0:cross_over_point]\n",
    "        mutation_list1 = num_list\n",
    "        mutation_list2 = num_list\n",
    "        mutation_list1 = [elem for elem in mutation_list1 if elem not in child1_1st]\n",
    "        mutation_list2 = [elem for elem in mutation_list2 if elem not in child2_1st]\n",
    "        child1[random.randint(0,target_length-1)] = secure_random.choice(mutation_list1) #mutation\n",
    "        child2[random.randint(0,target_length-1)] = secure_random.choice(mutation_list2)\n",
    "        \n",
    "        population_data.append(child1) #add the newly generated strings back to total population\n",
    "        population_data.append(child2) #add the newly generated strings back to total population\n",
    "\n",
    "        fitness_data = []\n",
    "        total_population = len(population_data)\n",
    "        for outloop in range(total_population):\n",
    "            fitness_score = Compute_Fitness_Score(population_data[outloop])\n",
    "            fitness_data.append(fitness_score)\n",
    "        probability_dist = []\n",
    "        for outloop in range(total_population):\n",
    "            probability_dist.append(fitness_data[outloop]/sum(fitness_data))\n",
    "        prob_df = pd.DataFrame({'String':population_data,'Fitness_Score':fitness_data,'Probability':probability_dist})\n",
    "        prob_df = prob_df.sort_values(['Probability'],ascending=False)\n",
    "        prob_df = prob_df.reset_index(drop=True)\n",
    "        print('Generation ',loop,' ',' Average Fitness Score ',prob_df[\"Fitness_Score\"].mean(),' ', ''.join(elem for elem in child1),' ',Compute_Fitness_Score(child1),''.join(elem for elem in child2),Compute_Fitness_Score(child2))"
   ]
  },
  {
   "cell_type": "markdown",
   "metadata": {},
   "source": [
    "#### Define main function."
   ]
  },
  {
   "cell_type": "code",
   "execution_count": 134,
   "metadata": {},
   "outputs": [
    {
     "name": "stdout",
     "output_type": "stream",
     "text": [
      "Generation  0    Average Fitness Score  2.4725274725274726   13025130   2 24642255 1\n",
      "Generation  1    Average Fitness Score  2.473552894211577   60471427   4 53601024 3\n",
      "Generation  2    Average Fitness Score  2.47357926221336   20766031   3 72554347 2\n",
      "Generation  3    Average Fitness Score  2.4741035856573705   72551627   2 53206031 4\n",
      "Generation  4    Average Fitness Score  2.4746268656716417   72052506   2 23746001 4\n",
      "Generation  5    Average Fitness Score  2.474652087475149   72651427   3 53606131 2\n",
      "Generation  6    Average Fitness Score  2.477159880834161   30472506   4 23741526 6\n",
      "Generation  7    Average Fitness Score  2.4801587301587302   23742506   6 23740526 5\n",
      "Generation  8    Average Fitness Score  2.4801783944499505   23741627   3 23602506 2\n",
      "Generation  9    Average Fitness Score  2.480693069306931   20361521   4 23744107 2\n",
      "Generation  10    Average Fitness Score  2.4821958456973294   73552506   4 23746001 4\n",
      "Generation  11    Average Fitness Score  2.4851778656126484   23741516   5 23742506 6\n",
      "Generation  12    Average Fitness Score  2.48568608094768   63741427   4 53602506 2\n",
      "Generation  13    Average Fitness Score  2.48767258382643   23745031   5 72551536 4\n",
      "Generation  14    Average Fitness Score  2.4876847290640396   23602506   2 23701427 3\n",
      "Generation  15    Average Fitness Score  2.487696850393701   30471417   2 53601024 3\n",
      "Generation  16    Average Fitness Score  2.488692232055064   23740026   4 50472506 3\n",
      "Generation  17    Average Fitness Score  2.4891944990176817   20361524   4 23754147 2\n",
      "Generation  18    Average Fitness Score  2.489695780176644   53741427   3 53672506 3\n",
      "Generation  19    Average Fitness Score  2.4901960784313726   72552503   3 23146031 3\n",
      "Generation  20    Average Fitness Score  2.493143976493634   25741026   5 30471525 6\n",
      "Generation  21    Average Fitness Score  2.494618395303327   30472506   4 23741525 4\n",
      "Generation  22    Average Fitness Score  2.4946236559139785   20366031   2 72544147 3\n",
      "Generation  23    Average Fitness Score  2.4951171875   53606011   2 72551407 4\n",
      "Generation  24    Average Fitness Score  2.4960975609756098   30671427   4 53601024 3\n",
      "Generation  25    Average Fitness Score  2.497076023391813   03744147   3 20361546 4\n",
      "Generation  26    Average Fitness Score  2.4980525803310614   42552506   3 23746036 4\n",
      "Generation  27    Average Fitness Score  2.498054474708171   23602506   2 23701427 3\n",
      "Generation  28    Average Fitness Score  2.499028182701652   53602525   3 30475427 4\n",
      "Generation  29    Average Fitness Score  2.500970873786408   30472526   4 63741026 5\n",
      "Generation  30    Average Fitness Score  2.501454898157129   72052506   2 23746531 4\n",
      "Generation  31    Average Fitness Score  2.502422480620155   72452506   3 23646031 4\n",
      "Generation  32    Average Fitness Score  2.505808325266215   13741026   6 30471526 6\n",
      "Generation  33    Average Fitness Score  2.5058027079303673   30456031   1 70551526 4\n",
      "Generation  34    Average Fitness Score  2.504830917874396   53672506   3 21741427 0\n",
      "Generation  35    Average Fitness Score  2.504343629343629   20351526   2 30471147 2\n",
      "Generation  36    Average Fitness Score  2.507232401157184   23741526   6 23741006 5\n",
      "Generation  37    Average Fitness Score  2.5081888246628132   25741526   4 30452506 3\n",
      "Generation  38    Average Fitness Score  2.508662175168431   20741427   2 13602506 4\n",
      "Generation  39    Average Fitness Score  2.510096153846154   53604117   4 20361425 4\n",
      "Generation  40    Average Fitness Score  2.510566762728146   54601026   2 30471422 4\n",
      "Generation  41    Average Fitness Score  2.5115163147792705   23741525   4 20472506 3\n",
      "Generation  42    Average Fitness Score  2.51294343240652   30571526   5 23741515 3\n",
      "Generation  43    Average Fitness Score  2.5158045977011496   23746506   5 23041526 6\n",
      "Generation  44    Average Fitness Score  2.518181818181818   23042576   4 53741526 6\n",
      "Generation  45    Average Fitness Score  2.520076481835564   53742106   5 25741526 4\n",
      "Generation  46    Average Fitness Score  2.5214899713467047   63741427   4 53601126 4\n",
      "Generation  47    Average Fitness Score  2.5209923664122136   24361526   2 23744147 2\n",
      "Generation  48    Average Fitness Score  2.5224022878932315   30472147   3 40361526 5\n",
      "Generation  49    Average Fitness Score  2.5223809523809524   53641526   4 23741417 1\n",
      "Generation  50    Average Fitness Score  2.5247383444338727   30471506   5 23741566 5\n",
      "Generation  51    Average Fitness Score  2.5256653992395437   20746031   4 72550506 3\n",
      "Generation  52    Average Fitness Score  2.5251661918328585   23144147   2 20365506 2\n",
      "Generation  53    Average Fitness Score  2.527514231499051   13742502   5 23741025 5\n",
      "Generation  54    Average Fitness Score  2.5293838862559244   50471526   5 53641526 4\n",
      "Generation  55    Average Fitness Score  2.530776515151515   23745031   5 70552506 3\n",
      "Generation  56    Average Fitness Score  2.533112582781457   23541526   4 30471626 6\n",
      "Generation  57    Average Fitness Score  2.5340264650283553   30471467   4 53601622 3\n",
      "Generation  58    Average Fitness Score  2.536827195467422   53741526   6 30471506 5\n",
      "Generation  59    Average Fitness Score  2.5367924528301886   57601026   2 30471457 3\n",
      "Generation  60    Average Fitness Score  2.539585296889727   23741526   6 53701526 5\n",
      "Generation  61    Average Fitness Score  2.5395480225988702   23741417   1 53602576 4\n",
      "Generation  62    Average Fitness Score  2.5413922859830667   30471516   4 23740526 5\n",
      "Generation  63    Average Fitness Score  2.544172932330827   53741026   5 30471525 6\n",
      "Generation  64    Average Fitness Score  2.5469483568075115   30471626   6 30461525 5\n",
      "Generation  65    Average Fitness Score  2.5483114446529083   25742506   4 23542506 4\n",
      "Generation  66    Average Fitness Score  2.549671977507029   30471515   4 30271526 4\n",
      "Generation  67    Average Fitness Score  2.550561797752809   53601021   3 30475427 4\n",
      "Generation  68    Average Fitness Score  2.551449953227315   30476051   5 02551626 2\n",
      "Generation  69    Average Fitness Score  2.553271028037383   23751526   4 50741526 5\n",
      "Generation  70    Average Fitness Score  2.5555555555555554   23541526   4 23041526 6\n",
      "Generation  71    Average Fitness Score  2.556436567164179   23041066   3 13541526 4\n",
      "Generation  72    Average Fitness Score  2.5587138863000933   23742506   6 23541526 4\n",
      "Generation  73    Average Fitness Score  2.5605214152700184   23741020   4 13745526 5\n",
      "Generation  74    Average Fitness Score  2.5623255813953487   30271525   4 30471056 5\n",
      "Generation  75    Average Fitness Score  2.5641263940520447   23541026   4 30476526 5\n",
      "Generation  76    Average Fitness Score  2.563602599814299   30476036   2 42551525 2\n",
      "Generation  77    Average Fitness Score  2.566326530612245   23041526   6 23746506 5\n",
      "Generation  78    Average Fitness Score  2.568118628359592   13741666   3 30471026 6\n",
      "Generation  79    Average Fitness Score  2.5689814814814813   30461427   5 23601026 2\n",
      "Generation  80    Average Fitness Score  2.570305272895467   23741626   4 30472506 4\n",
      "Generation  81    Average Fitness Score  2.5711645101663585   72562506   2 26746031 5\n",
      "Generation  82    Average Fitness Score  2.571560480147738   23744167   3 20362507 3\n",
      "Generation  83    Average Fitness Score  2.5714944649446494   72556626   1 30476531 4\n",
      "Generation  84    Average Fitness Score  2.5732718894009214   23745526   4 23712506 5\n",
      "Generation  85    Average Fitness Score  2.5759668508287294   31471526   5 63041526 6\n",
      "Generation  86    Average Fitness Score  2.578196872125115   63741526   6 23141526 4\n",
      "Generation  87    Average Fitness Score  2.579044117647059   32471526   5 23041515 2\n",
      "Generation  88    Average Fitness Score  2.580808080808081   26741526   4 30471522 5\n",
      "Generation  89    Average Fitness Score  2.58302752293578   26746031   5 72551506 5\n",
      "Generation  90    Average Fitness Score  2.583409715857012   23541427   4 53622506 2\n",
      "Generation  91    Average Fitness Score  2.5856227106227108   23741526   6 30422506 4\n",
      "Generation  92    Average Fitness Score  2.588289112534309   03741525   6 30451526 5\n",
      "Generation  93    Average Fitness Score  2.587294332723949   23741417   1 54602506 2\n",
      "Generation  94    Average Fitness Score  2.589041095890411   23742516   5 23742006 4\n",
      "Generation  95    Average Fitness Score  2.590784671532847   35471026   5 30271526 4\n",
      "Generation  96    Average Fitness Score  2.591613491340018   36472506   3 25741626 4\n",
      "Generation  97    Average Fitness Score  2.5942622950819674   53601426   5 30471527 6\n",
      "Generation  98    Average Fitness Score  2.5950864422202002   30471566   5 23711527 2\n",
      "Generation  99    Average Fitness Score  2.597272727272727   20471525   4 30471025 6\n",
      "Generation  100    Average Fitness Score  2.5985467756584923   30171526   4 23741021 4\n",
      "Generation  101    Average Fitness Score  2.6007259528130673   13242506   5 23745026 5\n",
      "Generation  102    Average Fitness Score  2.6019945602901178   23044647   3 40361526 5\n",
      "Generation  103    Average Fitness Score  2.6041666666666665   20471525   4 03741026 6\n",
      "Generation  104    Average Fitness Score  2.6054298642533937   02741527   3 30571026 5\n",
      "Generation  105    Average Fitness Score  2.6080470162748646   53741026   5 30461526 6\n",
      "Generation  106    Average Fitness Score  2.610207768744354   30471626   6 30471516 4\n",
      "Generation  107    Average Fitness Score  2.611913357400722   20741526   5 23042566 4\n",
      "Generation  108    Average Fitness Score  2.6127141568981065   10361025   4 20474147 3\n",
      "Generation  109    Average Fitness Score  2.614864864864865   35471026   5 10741526 5\n",
      "Generation  110    Average Fitness Score  2.616111611161116   21041526   4 23711526 4\n",
      "Generation  111    Average Fitness Score  2.618255395683453   23751026   4 63741526 6\n",
      "Generation  112    Average Fitness Score  2.620395327942498   53741025   5 30471556 5\n",
      "Generation  113    Average Fitness Score  2.6220825852782763   23641526   4 63742500 5\n",
      "Generation  114    Average Fitness Score  2.6260089686098653   30471626   6 30471625 8\n",
      "Generation  115    Average Fitness Score  2.628584229390681   60471525   5 32471625 6\n",
      "Generation  116    Average Fitness Score  2.6324977618621306   32471625   6 30471625 8\n",
      "30471625   30471625\n",
      "qconfig:  3 0 4 7 1 6 2 5\n"
     ]
    }
   ],
   "source": [
    "def main(): \n",
    "    probability_df, pop_data = Create_Init_Population() #initial population\n",
    "    qconfig = Crossover_Mutation(probability_df, pop_data) #calculate qconfig\n",
    "    print(\"qconfig: \", qconfig)\n",
    "      \n",
    "if __name__==\"__main__\": \n",
    "    main() "
   ]
  },
  {
   "cell_type": "code",
   "execution_count": null,
   "metadata": {},
   "outputs": [],
   "source": []
  }
 ],
 "metadata": {
  "kernelspec": {
   "display_name": "Python 3",
   "language": "python",
   "name": "python3"
  },
  "language_info": {
   "codemirror_mode": {
    "name": "ipython",
    "version": 3
   },
   "file_extension": ".py",
   "mimetype": "text/x-python",
   "name": "python",
   "nbconvert_exporter": "python",
   "pygments_lexer": "ipython3",
   "version": "3.7.3"
  }
 },
 "nbformat": 4,
 "nbformat_minor": 4
}
