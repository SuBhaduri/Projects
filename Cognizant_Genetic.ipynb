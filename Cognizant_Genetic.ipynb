{
 "cells": [
  {
   "cell_type": "markdown",
   "metadata": {},
   "source": [
    "### Python Unbox Coding Challenge\n",
    "#### Author: Subhamoy Bhaduri\n",
    "#### Date: June 23, 2020"
   ]
  },
  {
   "cell_type": "markdown",
   "metadata": {},
   "source": [
    "#### Import the libraries."
   ]
  },
  {
   "cell_type": "code",
   "execution_count": 1,
   "metadata": {},
   "outputs": [],
   "source": [
    "import random\n",
    "import numpy as np\n",
    "from numpy.random import choice\n",
    "import pandas as pd"
   ]
  },
  {
   "cell_type": "markdown",
   "metadata": {},
   "source": [
    "#### Set the parameters."
   ]
  },
  {
   "cell_type": "code",
   "execution_count": 2,
   "metadata": {},
   "outputs": [],
   "source": [
    "init_population = 1000\n",
    "crossover_frac = 0.5\n",
    "target_length = 8 #since our desired output is 8 byte long\n",
    "cross_over_point = int(crossover_frac*target_length)\n",
    "generation_count = 5000\n",
    "\n",
    "population_data = []\n",
    "fitness_data = []\n",
    "secure_random = random.SystemRandom()"
   ]
  },
  {
   "cell_type": "markdown",
   "metadata": {},
   "source": [
    "#### Set additional parameters."
   ]
  },
  {
   "cell_type": "code",
   "execution_count": 3,
   "metadata": {},
   "outputs": [
    {
     "name": "stdout",
     "output_type": "stream",
     "text": [
      "List of Numbers in Number System: ['0', '1', '2', '3', '4', '5', '6', '7', '8', '9']\n"
     ]
    }
   ],
   "source": [
    "gen_list = np.arange(0, 10) #take all the numbers from the number system\n",
    "num_list = [str(i) for i in gen_list] #treat the numbers as Strings to be formatted later\n",
    "target_list = [str(i) for i in np.arange(0, 8)] #any number between 0 and 7 is part of output sequence\n",
    "print(\"List of Numbers in Number System:\", num_list)"
   ]
  },
  {
   "cell_type": "markdown",
   "metadata": {},
   "source": [
    "#### Create an initial population of different combinations of numbers from Number System."
   ]
  },
  {
   "cell_type": "code",
   "execution_count": 4,
   "metadata": {},
   "outputs": [],
   "source": [
    "def Create_Init_Population():  \n",
    "    population_data = []\n",
    "    fitness_data = []\n",
    "    secure_random = random.SystemRandom()\n",
    "    for outloop in range(init_population):\n",
    "        random_data = []\n",
    "        fitness_score = 0\n",
    "        for inloop in range(target_length):\n",
    "            selected_data = secure_random.choice(num_list) #pick any number from Number System\n",
    "            if (selected_data in target_list): #if the number lies between 0 and 7 (our desired pool of numbers) increase the fitness by 1\n",
    "                fitness_score = fitness_score + 1\n",
    "            random_data.append(selected_data)\n",
    "        population_data.append(random_data)\n",
    "        fitness_data.append(fitness_score)\n",
    "    probability_dist = []\n",
    "    for outloop in range(init_population):\n",
    "        probability_dist.append(fitness_data[outloop]/target_length)\n",
    "    prob_df = pd.DataFrame({'String':population_data,'Fitness_Score':fitness_data,'Probability':probability_dist})\n",
    "    prob_df = prob_df.sort_values(['Probability'],ascending=False)\n",
    "    prob_df = prob_df.reset_index(drop=True)\n",
    "    return prob_df"
   ]
  },
  {
   "cell_type": "markdown",
   "metadata": {},
   "source": [
    "#### Create a function to compute fitness score."
   ]
  },
  {
   "cell_type": "code",
   "execution_count": 5,
   "metadata": {},
   "outputs": [],
   "source": [
    "def Compute_Fitness_Score(data):\n",
    "    data = ''.join([elem for elem in data])\n",
    "    fitness_score = 0\n",
    "    for inloop in range(target_length):\n",
    "        if (data[inloop] in target_list): #if the number lies between 0 and 7 (our desired pool of numbers)\n",
    "            if data.count(data[inloop]) == 1: #if there is exact 1 occurance of each number\n",
    "                fitness_score = fitness_score + 1 #increase the fitness by 1\n",
    "    return fitness_score"
   ]
  },
  {
   "cell_type": "markdown",
   "metadata": {},
   "source": [
    "#### Create a function for formatting the output."
   ]
  },
  {
   "cell_type": "code",
   "execution_count": 6,
   "metadata": {},
   "outputs": [],
   "source": [
    "def View_Element(data):\n",
    "    data = ''.join([elem for elem in data])\n",
    "    return data"
   ]
  },
  {
   "cell_type": "markdown",
   "metadata": {},
   "source": [
    "#### Crossover and Mutation."
   ]
  },
  {
   "cell_type": "code",
   "execution_count": 7,
   "metadata": {},
   "outputs": [],
   "source": [
    "def Crossover_Mutation(prob_df):\n",
    "    for loop in range(generation_count):\n",
    "        draw=[]\n",
    "        draw.append(prob_df[0:1][\"String\"].values[0])\n",
    "        draw.append(prob_df[1:2][\"String\"].values[0])\n",
    "        if (Compute_Fitness_Score(draw[0]) == target_length | Compute_Fitness_Score(draw[1]) == target_length):\n",
    "            print(View_Element(draw[0]),' ',View_Element(draw[1])) #when desired output is found out\n",
    "            res = str(View_Element(draw[0]))\n",
    "            res_fmt = str(' '.join(res))\n",
    "            return res_fmt\n",
    "            break\n",
    "        child1 = draw[0][0:cross_over_point]+draw[1][cross_over_point:] #crossover\n",
    "        child2 = draw[1][0:cross_over_point]+draw[0][cross_over_point:]\n",
    "        child1[random.randint(0,target_length-1)] = secure_random.choice(num_list) #mutation\n",
    "        child2[random.randint(0,target_length-1)] = secure_random.choice(num_list)\n",
    "        population_data.append(child1) #add the newly generated strings back to total population\n",
    "        population_data.append(child2)\n",
    "        fitness_data = []\n",
    "        total_population = len(population_data)\n",
    "        for outloop in range(total_population):\n",
    "            fitness_score = Compute_Fitness_Score(population_data[outloop])\n",
    "            fitness_data.append(fitness_score)\n",
    "        probability_dist = []\n",
    "        for outloop in range(total_population):\n",
    "            probability_dist.append(fitness_data[outloop]/sum(fitness_data))\n",
    "        prob_df = pd.DataFrame({'String':population_data,'Fitness_Score':fitness_data,'Probability':probability_dist})\n",
    "        prob_df = prob_df.sort_values(['Probability'],ascending=False)\n",
    "        prob_df = prob_df.reset_index(drop=True)\n",
    "        print('Generation ',loop,' ',' Average Fitness Score ',prob_df[\"Fitness_Score\"].mean(),' ', ''.join(elem for elem in child1),' ',Compute_Fitness_Score(child1),''.join(elem for elem in child2),Compute_Fitness_Score(child2))"
   ]
  },
  {
   "cell_type": "markdown",
   "metadata": {},
   "source": [
    "#### Define main function."
   ]
  },
  {
   "cell_type": "code",
   "execution_count": 8,
   "metadata": {},
   "outputs": [
    {
     "name": "stdout",
     "output_type": "stream",
     "text": [
      "Generation  0    Average Fitness Score  2.5   15206076   4 17479224 1\n",
      "Generation  1    Average Fitness Score  2.75   15309224   5 47476076 1\n",
      "Generation  2    Average Fitness Score  3.1666666666666665   15306076   4 15209224 4\n",
      "Generation  3    Average Fitness Score  3.5   15306071   4 15609224 5\n",
      "Generation  4    Average Fitness Score  3.5   13309224   3 15605224 4\n",
      "Generation  5    Average Fitness Score  3.5833333333333335   15308224   5 16609224 3\n",
      "Generation  6    Average Fitness Score  3.642857142857143   15309254   5 15509224 3\n",
      "Generation  7    Average Fitness Score  3.9375   15309624   7 15609224 5\n",
      "Generation  8    Average Fitness Score  4.166666666666667   15307224   6 15300624 6\n",
      "Generation  9    Average Fitness Score  4.35   15300624   6 15309694 6\n",
      "Generation  10    Average Fitness Score  4.454545454545454   15359694   4 15309627 7\n",
      "Generation  11    Average Fitness Score  4.541666666666667   15329624   5 15309629 6\n",
      "Generation  12    Average Fitness Score  4.6923076923076925   15309624   7 15300627 6\n",
      "Generation  13    Average Fitness Score  4.75   15309667   5 15309684 6\n",
      "Generation  14    Average Fitness Score  4.833333333333333   16309624   5 15309624 7\n",
      "Generation  15    Average Fitness Score  4.875   18309624   6 15309634 5\n",
      "Generation  16    Average Fitness Score  4.9411764705882355   15709624   7 15309626 5\n",
      "Generation  17    Average Fitness Score  4.944444444444445   15709024   5 15309620 5\n",
      "Generation  18    Average Fitness Score  4.947368421052632   25309624   5 15709637 5\n",
      "Generation  19    Average Fitness Score  4.95   45709624   5 05309624 5\n",
      "Generation  20    Average Fitness Score  4.976190476190476   15309824   6 10309624 5\n",
      "Generation  21    Average Fitness Score  5.0   15309621   5 19309627 6\n",
      "Generation  22    Average Fitness Score  5.043478260869565   15349627   7 15109624 5\n",
      "Generation  23    Average Fitness Score  5.083333333333333   15349627   7 15709626 5\n",
      "Generation  24    Average Fitness Score  5.1   10309624   5 15309694 6\n",
      "Generation  25    Average Fitness Score  5.134615384615385   15349617   5 15309627 7\n",
      "Generation  26    Average Fitness Score  5.111111111111111   15109624   5 15799627 4\n",
      "Generation  27    Average Fitness Score  5.107142857142857   15309624   7 05709627 3\n",
      "Generation  28    Average Fitness Score  5.120689655172414   16309624   5 95309624 6\n",
      "Generation  29    Average Fitness Score  5.1   15509627   5 15342624 4\n",
      "Generation  30    Average Fitness Score  5.145161290322581   15348627   7 15399627 6\n",
      "Generation  31    Average Fitness Score  5.1875   15345627   6 15349607 7\n",
      "Generation  32    Average Fitness Score  5.181818181818182   15709620   5 15309604 5\n",
      "Generation  33    Average Fitness Score  5.147058823529412   15309637   5 15149624 3\n",
      "Generation  34    Average Fitness Score  5.142857142857143   15309327   5 15349624 5\n",
      "Generation  35    Average Fitness Score  5.138888888888889   05309627   5 55309624 5\n",
      "Generation  36    Average Fitness Score  5.121621621621622   15309607   5 15349424 4\n",
      "Generation  37    Average Fitness Score  5.131578947368421   15509627   5 15305624 6\n",
      "Generation  38    Average Fitness Score  5.115384615384615   15305607   4 15649627 5\n",
      "Generation  39    Average Fitness Score  5.1375   15309407   5 10349627 7\n",
      "Generation  40    Average Fitness Score  5.158536585365853   10549624   5 15309627 7\n",
      "Generation  41    Average Fitness Score  5.178571428571429   15309624   7 15709627 5\n",
      "Generation  42    Average Fitness Score  5.151162790697675   15349124   3 15609627 5\n",
      "Generation  43    Average Fitness Score  5.1477272727272725   10349624   5 15319627 5\n",
      "Generation  44    Average Fitness Score  5.122222222222222   15249624   3 15329627 5\n",
      "Generation  45    Average Fitness Score  5.108695652173913   15309807   4 15349624 5\n",
      "Generation  46    Average Fitness Score  5.127659574468085   15049627   7 17309627 5\n",
      "Generation  47    Average Fitness Score  5.125   14309624   5 05309627 5\n",
      "Generation  48    Average Fitness Score  5.122448979591836   15149627   5 05309627 5\n",
      "Generation  49    Average Fitness Score  5.14   15349007   5 15349627 7\n",
      "Generation  50    Average Fitness Score  5.127450980392157   15349424   4 15309620 5\n",
      "Generation  51    Average Fitness Score  5.134615384615385   15309827   6 10349677 5\n",
      "Generation  52    Average Fitness Score  5.150943396226415   15309607   5 15309624 7\n",
      "Generation  53    Average Fitness Score  5.148148148148148   15308927   6 15341624 4\n",
      "Generation  54    Average Fitness Score  5.1909090909090905   15307624   8 15709624 7\n",
      "Generation  55    Average Fitness Score  5.1875   15309824   6 16707624 4\n",
      "Generation  56    Average Fitness Score  5.192982456140351   15309626   5 15047624 6\n",
      "Generation  57    Average Fitness Score  5.206896551724138   15399607   6 15347624 6\n",
      "Generation  58    Average Fitness Score  5.194915254237288   15009627   5 15347524 4\n",
      "Generation  59    Average Fitness Score  5.216666666666667   15309624   7 15607624 6\n",
      "Generation  60    Average Fitness Score  5.221311475409836   15308667   5 15047624 6\n",
      "Generation  61    Average Fitness Score  5.241935483870968   15379627   5 15307624 8\n",
      "15307624   15307624\n",
      "qconfig:  1 5 3 0 7 6 2 4\n"
     ]
    }
   ],
   "source": [
    "def main(): \n",
    "    probability_df = Create_Init_Population() #initial population\n",
    "    qconfig = Crossover_Mutation(probability_df) #calculate qconfig\n",
    "    print(\"qconfig: \", qconfig)\n",
    "  \n",
    "  \n",
    "if __name__==\"__main__\": \n",
    "    main() "
   ]
  },
  {
   "cell_type": "code",
   "execution_count": null,
   "metadata": {},
   "outputs": [],
   "source": []
  }
 ],
 "metadata": {
  "kernelspec": {
   "display_name": "Python 3",
   "language": "python",
   "name": "python3"
  },
  "language_info": {
   "codemirror_mode": {
    "name": "ipython",
    "version": 3
   },
   "file_extension": ".py",
   "mimetype": "text/x-python",
   "name": "python",
   "nbconvert_exporter": "python",
   "pygments_lexer": "ipython3",
   "version": "3.7.3"
  }
 },
 "nbformat": 4,
 "nbformat_minor": 4
}
